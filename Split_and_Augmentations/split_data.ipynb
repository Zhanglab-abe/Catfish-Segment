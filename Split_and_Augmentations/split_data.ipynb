{
 "cells": [
  {
   "cell_type": "code",
   "execution_count": 1,
   "metadata": {},
   "outputs": [
    {
     "name": "stdout",
     "output_type": "stream",
     "text": [
      "/home/masters/twitterDir/demo\n"
     ]
    }
   ],
   "source": [
    "import os\n",
    "fileRoot = os.getcwd()\n",
    "print(fileRoot)"
   ]
  },
  {
   "cell_type": "code",
   "execution_count": 2,
   "metadata": {},
   "outputs": [],
   "source": [
    "try:\n",
    "    os.makedirs(\"data/annotations/training\")\n",
    "    os.makedirs(\"data/annotations/validation\")\n",
    "    os.makedirs(\"data/images/training\")\n",
    "    os.makedirs(\"data/images/validation\")\n",
    "    os.makedirs(\"data/test\")\n",
    "except:\n",
    "    print(\"exist\")\n"
   ]
  },
  {
   "cell_type": "code",
   "execution_count": 3,
   "metadata": {},
   "outputs": [
    {
     "name": "stdout",
     "output_type": "stream",
     "text": [
      "360\n",
      "72\n",
      "[302, 191, 113, 112, 256, 117, 95, 357, 260, 308, 215, 127, 184, 60, 74, 212, 198, 41, 153, 279, 333, 277, 337, 245, 45, 33, 222, 139, 87, 265, 10, 38, 293, 255, 190, 196, 285, 115, 141, 332, 309, 120, 103, 21, 351, 251, 108, 165, 284, 118, 159, 254, 321, 329, 164, 192, 246, 281, 68, 203, 100, 236, 36, 350, 172, 75, 202, 102, 229, 197, 304, 211]\n",
      "['cl8iyh6un46el080rbxpr27f0_4.jpg', 'cl8j0r9ib0lar07299wkxbufj_4.jpg', 'cl8iyuwun02go080kdbk16fq5_0.jpg', 'cl8kb41pw20ug082j2fh65mfl_0.jpg', 'cl8kcfymx3s5i0727fmkg3awz_2.jpg', 'cl8kk3hwp1e41070jf4ywcddv_4.jpg', 'cl8ke5hbk03tu07221g5i55wc_1.jpg', 'cl8ka9h0s11qf071y8br4ccug_4.jpg', 'cl8k8c5cg7zhr070g0w5u0g9v_4.jpg', 'cl8kpak7o89tk0737341o5wrr_2.jpg', 'cl8kk3hwp1e41070jf4ywcddv_1.jpg', 'cl8j5lcux1ib0071t666f1fhf_4.jpg', 'cl8ixggom29jf071v1rqg5ymv_1.jpg', 'cl8j1947c0m9q07za7y0fev8n_4.jpg', 'cl8j04md50gva0729ffwl2sqo_4.jpg', 'cl8kdrgz94vri0831fqqp70ib_3.jpg', 'cl8kjpwfo0mqf07176kcj21ct_1.jpg', 'cl8kia8aha9jz071m2mcx9m3s_0.jpg', 'cl8j35ll90zlw07xf3no24b8l_2.jpg', 'cl8kokgbg1tyx0717goib5jj1_1.jpg', 'cl8kj02pf59s807272jcnadug_4.jpg', 'cl8kefo2j489b07274k2z25rc_4.jpg', 'cl8j638vu1t5n08zkhty1fhbm_1.jpg', 'cl8j0r9ib0lar07299wkxbufj_1.jpg', 'cl8ke5hbk03tu07221g5i55wc_0.jpg', 'cl8iu178600xl090p8fz27prl_2.jpg', 'cl8j6lcb01u4y07za8vnm27zq_2.jpg', 'cl8iyh6un46el080rbxpr27f0_0.jpg', 'cl8i0klwwdbme08140gykc8xp_3.jpg', 'cl8kncoqr3uzn08z26xo11uu3_2.jpg', 'cl8kj02pf59s807272jcnadug_0.jpg', 'cl8ixvpsp4gcr071w9lnx8e6f_3.jpg', 'cl8itl6c362z7071s5u1cgrl0_3.jpg', 'cl8korz4c6b45071sg2umd2km_4.jpg', 'cl8kgcdh19tk9071m8hix0zsq_4.jpg', 'cl8kp1m1l6ctc071s8arn7svr_2.jpg']\n",
      "['cl8kfeyif5tvw073786ddced7_0.jpg', 'cl8itl6c362z7071s5u1cgrl0_2.jpg', 'cl8kobwsybwsa071mcwom7kwu_0.jpg', 'cl8kncoqr3uzn08z26xo11uu3_1.jpg', 'cl8j04md50gva0729ffwl2sqo_0.jpg', 'cl8iu178600xl090p8fz27prl_1.jpg', 'cl8kb41pw20ug082j2fh65mfl_2.jpg', 'cl8j638vu1t5n08zkhty1fhbm_3.jpg', 'cl8kfqs0f0ye207016xf85040_0.jpg', 'cl8j43rdh179a07xfake64f3p_1.jpg', 'cl8kfqs0f0ye207016xf85040_4.jpg', 'cl8kf3vee0c5d072248vebcgu_4.jpg', 'cl8k9ykrw408l0831442uh8wk_2.jpg', 'cl8j5lcux1ib0071t666f1fhf_0.jpg', 'cl8kczetj39sp08ymgm9z2gsx_0.jpg', 'cl8ixggom29jf071v1rqg5ymv_0.jpg', 'cl8kefo2j489b07274k2z25rc_3.jpg', 'cl8iyh6un46el080rbxpr27f0_1.jpg', 'cl8kq65ya6lrf071s4zec1uix_2.jpg', 'cl8kfqs0f0ye207016xf85040_2.jpg', 'cl8kpak7o89tk0737341o5wrr_1.jpg', 'cl8k8wrvs1jnp082jgg27hgha_3.jpg', 'cl8kpxiny4bwx08z2ap4why4d_0.jpg', 'cl8kbmq9r8plt071whrd77ssv_4.jpg', 'cl8ke5hbk03tu07221g5i55wc_3.jpg', 'cl8j638vu1t5n08zkhty1fhbm_4.jpg', 'cl8kk3hwp1e41070jf4ywcddv_0.jpg', 'cl8kpxiny4bwx08z2ap4why4d_1.jpg', 'cl8j43rdh179a07xfake64f3p_2.jpg', 'cl8kjep7w01oi070i5dx023mh_0.jpg', 'cl8i0motz1pxq072m4xbs3h7k_1.jpg', 'cl8kf3vee0c5d072248vebcgu_0.jpg', 'cl8j3bvct13oh0806amf5f2wa_1.jpg', 'cl8kefo2j489b07274k2z25rc_2.jpg', 'cl8kkv3cr73ml07370h4xeqgi_2.jpg', 'cl8iz4sa205is08zk34d417fk_0.jpg']\n"
     ]
    }
   ],
   "source": [
    "import os\n",
    "import shutil\n",
    "import numpy as np\n",
    "\n",
    "pickedList = []\n",
    "testList = []\n",
    "validationList = []\n",
    "\n",
    "folder = \"data_aug\"\n",
    "\n",
    "for root, dirs, files in os.walk(f\"{fileRoot}/{folder}/images_raw/\"):\n",
    "    # print(root, dirs, files)\n",
    "    print(len(files))\n",
    "    moveNum = int(len(files)*0.2)\n",
    "    print(moveNum)\n",
    "    candidate = 0\n",
    "    while candidate < moveNum:\n",
    "        index = np.random.randint(0,len(files)-1)\n",
    "        if index not in pickedList:\n",
    "            pickedList.append(index)\n",
    "            candidate +=1\n",
    "    print(pickedList)\n",
    "    testList = [files[i] for i in pickedList[:len(pickedList)//2]]\n",
    "    validationList = [files[i] for i in pickedList[len(pickedList)//2:]]\n",
    "    print(testList)\n",
    "    print(validationList)\n",
    "    for file in testList:\n",
    "        shutil.move(f\"{fileRoot}/{folder}/images_raw/{file}\", f\"{fileRoot}/data/test/{file}\")\n",
    "        os.remove(f\"{fileRoot}/{folder}/annotations/{file[:-4]}.png\")\n",
    "    for file in validationList:\n",
    "        shutil.move(f\"{fileRoot}/{folder}/images_raw/{file}\", f\"{fileRoot}/data/images/validation/{file}\")\n",
    "        shutil.move(f\"{fileRoot}/{folder}/annotations/{file[:-4]}.png\", f\"{fileRoot}/data/annotations/validation/{file[:-4]}.png\")\n",
    "    break\n",
    "\n",
    "\n",
    "for root, dirs, files in os.walk(f\"{fileRoot}/{folder}/images_raw/\"):\n",
    "    # print(root, dirs, files)\n",
    "    for file in files:\n",
    "        shutil.move(f\"{fileRoot}/{folder}/images_raw/{file}\", f\"{fileRoot}/data/images/training/{file}\")\n",
    "        shutil.move(f\"{fileRoot}/{folder}/annotations/{file[:-4]}.png\", f\"{fileRoot}/data/annotations/training/{file[:-4]}.png\")\n",
    "        \n",
    "    break"
   ]
  }
 ],
 "metadata": {
  "kernelspec": {
   "display_name": "Python 3.8.10 64-bit",
   "language": "python",
   "name": "python3"
  },
  "language_info": {
   "codemirror_mode": {
    "name": "ipython",
    "version": 3
   },
   "file_extension": ".py",
   "mimetype": "text/x-python",
   "name": "python",
   "nbconvert_exporter": "python",
   "pygments_lexer": "ipython3",
   "version": "3.8.10 (default, Jun  2 2021, 10:49:15) \n[GCC 9.4.0]"
  },
  "orig_nbformat": 4,
  "vscode": {
   "interpreter": {
    "hash": "e7370f93d1d0cde622a1f8e1c04877d8463912d04d973331ad4851f04de6915a"
   }
  }
 },
 "nbformat": 4,
 "nbformat_minor": 2
}
