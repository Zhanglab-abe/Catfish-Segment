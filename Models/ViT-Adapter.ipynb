{
 "cells": [
  {
   "cell_type": "code",
   "execution_count": 1,
   "metadata": {
    "colab": {
     "base_uri": "https://localhost:8080/"
    },
    "executionInfo": {
     "elapsed": 346,
     "status": "ok",
     "timestamp": 1674081087844,
     "user": {
      "displayName": "Lab Zhang",
      "userId": "02753311727466830892"
     },
     "user_tz": 360
    },
    "id": "pQuMCwvx-_yd",
    "outputId": "e688397c-1c6c-42f0-f64c-c89c2cb619c0"
   },
   "outputs": [
    {
     "name": "stdout",
     "output_type": "stream",
     "text": [
      "/home/agricoptics/Desktop/CatFish\n"
     ]
    }
   ],
   "source": [
    "%cd /home/agricoptics/Desktop/CatFish/"
   ]
  },
  {
   "cell_type": "code",
   "execution_count": null,
   "metadata": {
    "id": "pQhaof7h-E-l"
   },
   "outputs": [],
   "source": [
    "# !git clone https://github.com/czczup/ViT-Adapter.git"
   ]
  },
  {
   "cell_type": "code",
   "execution_count": null,
   "metadata": {},
   "outputs": [],
   "source": [
    "# !pip install --upgrade pip"
   ]
  },
  {
   "cell_type": "code",
   "execution_count": null,
   "metadata": {},
   "outputs": [],
   "source": [
    "# !pip install --upgrade Pillow"
   ]
  },
  {
   "cell_type": "code",
   "execution_count": null,
   "metadata": {},
   "outputs": [],
   "source": [
    "# !git clone https://github.com/philferriere/cocoapi.git#subdirectory=PythonAPI\n",
    "    \n",
    "# !git clone https://github.com/cocodataset/cocoapi.git\n",
    "    \n",
    "    \n",
    "!pip install \"git+https://github.com/philferriere/cocoapi.git#egg=pycocotools&subdirectory=PythonAPI\""
   ]
  },
  {
   "cell_type": "code",
   "execution_count": 2,
   "metadata": {
    "colab": {
     "base_uri": "https://localhost:8080/"
    },
    "executionInfo": {
     "elapsed": 174819,
     "status": "ok",
     "timestamp": 1674081262661,
     "user": {
      "displayName": "Lab Zhang",
      "userId": "02753311727466830892"
     },
     "user_tz": 360
    },
    "id": "iNfH7-IOua5_",
    "outputId": "58ab6eb7-f30a-4632-b268-7ca1bcb15dc1"
   },
   "outputs": [
    {
     "name": "stdout",
     "output_type": "stream",
     "text": [
      "WARNING: pip is being invoked by an old script wrapper. This will fail in a future version of pip.\n",
      "Please see https://github.com/pypa/pip/issues/5599 for advice on fixing the underlying issue.\n",
      "To avoid this problem you can invoke Python with '-m pip' instead of running pip directly.\n",
      "Looking in links: https://download.pytorch.org/whl/torch_stable.html\n",
      "Requirement already satisfied: torch==1.9.0+cu111 in /home/agricoptics/snap/jupyter/common/lib/python3.7/site-packages (1.9.0+cu111)\n",
      "Requirement already satisfied: torchvision==0.10.0+cu111 in /home/agricoptics/snap/jupyter/common/lib/python3.7/site-packages (0.10.0+cu111)\n",
      "Requirement already satisfied: torchaudio==0.9.0 in /home/agricoptics/snap/jupyter/common/lib/python3.7/site-packages (0.9.0)\n",
      "Requirement already satisfied: typing-extensions in /home/agricoptics/snap/jupyter/common/lib/python3.7/site-packages (from torch==1.9.0+cu111) (4.4.0)\n",
      "Requirement already satisfied: numpy in /home/agricoptics/snap/jupyter/common/lib/python3.7/site-packages (from torchvision==0.10.0+cu111) (1.21.6)\n",
      "Requirement already satisfied: pillow>=5.3.0 in /home/agricoptics/snap/jupyter/common/lib/python3.7/site-packages (from torchvision==0.10.0+cu111) (9.4.0)\n"
     ]
    }
   ],
   "source": [
    "\n",
    "!pip install torch==1.9.0+cu111 torchvision==0.10.0+cu111 torchaudio==0.9.0 -f https://download.pytorch.org/whl/torch_stable.html\n"
   ]
  },
  {
   "cell_type": "code",
   "execution_count": null,
   "metadata": {},
   "outputs": [],
   "source": [
    "# %cd /home/agricoptics/Desktop/CatFish/\n",
    "\n",
    "!export PATH=\"/usr/bin/git:$PATH\"\n",
    "!which git\n",
    "!echo $PATH\n",
    "\n",
    "\n",
    "\n",
    "!pip install git+https://github.com/philferriere/cocoapi.git#subdirectory=PythonAPI\n",
    "    \n",
    "# !git clone pip https://github.com/philferriere/cocoapi.git#subdirectory=PythonAPI\n",
    "\n",
    "    \n",
    "# !pip install gcc"
   ]
  },
  {
   "cell_type": "code",
   "execution_count": null,
   "metadata": {},
   "outputs": [],
   "source": [
    "!pwd\n",
    "!ls /usr/bin"
   ]
  },
  {
   "cell_type": "code",
   "execution_count": 3,
   "metadata": {},
   "outputs": [
    {
     "name": "stdout",
     "output_type": "stream",
     "text": [
      "WARNING: pip is being invoked by an old script wrapper. This will fail in a future version of pip.\n",
      "Please see https://github.com/pypa/pip/issues/5599 for advice on fixing the underlying issue.\n",
      "To avoid this problem you can invoke Python with '-m pip' instead of running pip directly.\n",
      "Looking in links: https://download.openmmlab.com/mmcv/dist/cu111/torch1.9.0/index.html\n",
      "Requirement already satisfied: mmcv-full==1.4.2 in /home/agricoptics/snap/jupyter/common/lib/python3.7/site-packages (1.4.2)\n",
      "Requirement already satisfied: Pillow in /home/agricoptics/snap/jupyter/common/lib/python3.7/site-packages (from mmcv-full==1.4.2) (9.4.0)\n",
      "Requirement already satisfied: addict in /home/agricoptics/snap/jupyter/common/lib/python3.7/site-packages (from mmcv-full==1.4.2) (2.4.0)\n",
      "Requirement already satisfied: yapf in /home/agricoptics/snap/jupyter/common/lib/python3.7/site-packages (from mmcv-full==1.4.2) (0.32.0)\n",
      "Requirement already satisfied: numpy in /home/agricoptics/snap/jupyter/common/lib/python3.7/site-packages (from mmcv-full==1.4.2) (1.21.6)\n",
      "Requirement already satisfied: opencv-python>=3 in /home/agricoptics/snap/jupyter/common/lib/python3.7/site-packages (from mmcv-full==1.4.2) (4.7.0.68)\n",
      "Requirement already satisfied: packaging in /home/agricoptics/snap/jupyter/common/lib/python3.7/site-packages (from mmcv-full==1.4.2) (23.0)\n",
      "Requirement already satisfied: pyyaml in /home/agricoptics/snap/jupyter/common/lib/python3.7/site-packages (from mmcv-full==1.4.2) (6.0)\n"
     ]
    }
   ],
   "source": [
    "!pip install mmcv-full==1.4.2 -f https://download.openmmlab.com/mmcv/dist/cu111/torch1.9.0/index.html"
   ]
  },
  {
   "cell_type": "code",
   "execution_count": 4,
   "metadata": {},
   "outputs": [
    {
     "name": "stdout",
     "output_type": "stream",
     "text": [
      "WARNING: pip is being invoked by an old script wrapper. This will fail in a future version of pip.\n",
      "Please see https://github.com/pypa/pip/issues/5599 for advice on fixing the underlying issue.\n",
      "To avoid this problem you can invoke Python with '-m pip' instead of running pip directly.\n",
      "Requirement already satisfied: timm==0.4.12 in /home/agricoptics/snap/jupyter/common/lib/python3.7/site-packages (0.4.12)\n",
      "Requirement already satisfied: torchvision in /home/agricoptics/snap/jupyter/common/lib/python3.7/site-packages (from timm==0.4.12) (0.10.0+cu111)\n",
      "Requirement already satisfied: torch>=1.4 in /home/agricoptics/snap/jupyter/common/lib/python3.7/site-packages (from timm==0.4.12) (1.9.0+cu111)\n",
      "Requirement already satisfied: typing-extensions in /home/agricoptics/snap/jupyter/common/lib/python3.7/site-packages (from torch>=1.4->timm==0.4.12) (4.4.0)\n",
      "Requirement already satisfied: numpy in /home/agricoptics/snap/jupyter/common/lib/python3.7/site-packages (from torchvision->timm==0.4.12) (1.21.6)\n",
      "Requirement already satisfied: pillow>=5.3.0 in /home/agricoptics/snap/jupyter/common/lib/python3.7/site-packages (from torchvision->timm==0.4.12) (9.4.0)\n"
     ]
    }
   ],
   "source": [
    "!pip install timm==0.4.12"
   ]
  },
  {
   "cell_type": "code",
   "execution_count": 5,
   "metadata": {},
   "outputs": [
    {
     "name": "stdout",
     "output_type": "stream",
     "text": [
      "WARNING: pip is being invoked by an old script wrapper. This will fail in a future version of pip.\n",
      "Please see https://github.com/pypa/pip/issues/5599 for advice on fixing the underlying issue.\n",
      "To avoid this problem you can invoke Python with '-m pip' instead of running pip directly.\n",
      "Collecting mmdet==2.22.0\n",
      "  Using cached mmdet-2.22.0-py3-none-any.whl (1.3 MB)\n",
      "Collecting pycocotools\n",
      "  Using cached pycocotools-2.0.6.tar.gz (24 kB)\n",
      "  Installing build dependencies ... \u001b[?25ldone\n",
      "\u001b[?25h  Getting requirements to build wheel ... \u001b[?25ldone\n",
      "\u001b[?25h  Preparing metadata (pyproject.toml) ... \u001b[?25ldone\n",
      "\u001b[?25hRequirement already satisfied: matplotlib in /home/agricoptics/snap/jupyter/common/lib/python3.7/site-packages (from mmdet==2.22.0) (3.5.3)\n",
      "Requirement already satisfied: six in /snap/jupyter/6/lib/python3.7/site-packages (from mmdet==2.22.0) (1.12.0)\n",
      "Requirement already satisfied: numpy in /home/agricoptics/snap/jupyter/common/lib/python3.7/site-packages (from mmdet==2.22.0) (1.21.6)\n",
      "Collecting terminaltables\n",
      "  Using cached terminaltables-3.1.10-py2.py3-none-any.whl (15 kB)\n",
      "Requirement already satisfied: pyparsing>=2.2.1 in /home/agricoptics/snap/jupyter/common/lib/python3.7/site-packages (from matplotlib->mmdet==2.22.0) (3.0.9)\n",
      "Requirement already satisfied: cycler>=0.10 in /home/agricoptics/snap/jupyter/common/lib/python3.7/site-packages (from matplotlib->mmdet==2.22.0) (0.11.0)\n",
      "Requirement already satisfied: pillow>=6.2.0 in /home/agricoptics/snap/jupyter/common/lib/python3.7/site-packages (from matplotlib->mmdet==2.22.0) (9.4.0)\n",
      "Requirement already satisfied: python-dateutil>=2.7 in /snap/jupyter/6/lib/python3.7/site-packages (from matplotlib->mmdet==2.22.0) (2.8.0)\n",
      "Requirement already satisfied: fonttools>=4.22.0 in /home/agricoptics/snap/jupyter/common/lib/python3.7/site-packages (from matplotlib->mmdet==2.22.0) (4.38.0)\n",
      "Requirement already satisfied: kiwisolver>=1.0.1 in /home/agricoptics/snap/jupyter/common/lib/python3.7/site-packages (from matplotlib->mmdet==2.22.0) (1.4.4)\n",
      "Requirement already satisfied: packaging>=20.0 in /home/agricoptics/snap/jupyter/common/lib/python3.7/site-packages (from matplotlib->mmdet==2.22.0) (23.0)\n",
      "Requirement already satisfied: typing-extensions in /home/agricoptics/snap/jupyter/common/lib/python3.7/site-packages (from kiwisolver>=1.0.1->matplotlib->mmdet==2.22.0) (4.4.0)\n",
      "Building wheels for collected packages: pycocotools\n",
      "  Building wheel for pycocotools (pyproject.toml) ... \u001b[?25lerror\n",
      "  \u001b[1;31merror\u001b[0m: \u001b[1msubprocess-exited-with-error\u001b[0m\n",
      "  \n",
      "  \u001b[31m×\u001b[0m \u001b[32mBuilding wheel for pycocotools \u001b[0m\u001b[1;32m(\u001b[0m\u001b[32mpyproject.toml\u001b[0m\u001b[1;32m)\u001b[0m did not run successfully.\n",
      "  \u001b[31m│\u001b[0m exit code: \u001b[1;36m1\u001b[0m\n",
      "  \u001b[31m╰─>\u001b[0m \u001b[31m[20 lines of output]\u001b[0m\n",
      "  \u001b[31m   \u001b[0m running bdist_wheel\n",
      "  \u001b[31m   \u001b[0m running build\n",
      "  \u001b[31m   \u001b[0m running build_py\n",
      "  \u001b[31m   \u001b[0m creating build\n",
      "  \u001b[31m   \u001b[0m creating build/lib.linux-x86_64-cpython-37\n",
      "  \u001b[31m   \u001b[0m creating build/lib.linux-x86_64-cpython-37/pycocotools\n",
      "  \u001b[31m   \u001b[0m copying pycocotools/__init__.py -> build/lib.linux-x86_64-cpython-37/pycocotools\n",
      "  \u001b[31m   \u001b[0m copying pycocotools/cocoeval.py -> build/lib.linux-x86_64-cpython-37/pycocotools\n",
      "  \u001b[31m   \u001b[0m copying pycocotools/coco.py -> build/lib.linux-x86_64-cpython-37/pycocotools\n",
      "  \u001b[31m   \u001b[0m copying pycocotools/mask.py -> build/lib.linux-x86_64-cpython-37/pycocotools\n",
      "  \u001b[31m   \u001b[0m running build_ext\n",
      "  \u001b[31m   \u001b[0m cythoning pycocotools/_mask.pyx to pycocotools/_mask.c\n",
      "  \u001b[31m   \u001b[0m building 'pycocotools._mask' extension\n",
      "  \u001b[31m   \u001b[0m creating build/temp.linux-x86_64-cpython-37\n",
      "  \u001b[31m   \u001b[0m creating build/temp.linux-x86_64-cpython-37/common\n",
      "  \u001b[31m   \u001b[0m creating build/temp.linux-x86_64-cpython-37/pycocotools\n",
      "  \u001b[31m   \u001b[0m gcc -pthread -B /home/filipe/miniconda3/envs/JUPYTER/compiler_compat -Wl,--sysroot=/ -Wsign-compare -DNDEBUG -g -fwrapv -O3 -Wall -Wstrict-prototypes -fPIC -I/tmp/pip-build-env-hrbj8fm2/overlay/lib/python3.7/site-packages/numpy/core/include -I./common -I/home/filipe/miniconda3/envs/JUPYTER/include/python3.7m -c ./common/maskApi.c -o build/temp.linux-x86_64-cpython-37/./common/maskApi.o -Wno-cpp -Wno-unused-function -std=c99\n",
      "  \u001b[31m   \u001b[0m /tmp/pip-build-env-hrbj8fm2/overlay/lib/python3.7/site-packages/Cython/Compiler/Main.py:369: FutureWarning: Cython directive 'language_level' not set, using 2 for now (Py2). This will change in a later release! File: /tmp/pip-install-5y8x1e3n/pycocotools_0c9e5246e80640179306196eb2015cfb/pycocotools/_mask.pyx\n",
      "  \u001b[31m   \u001b[0m   tree = Parsing.p_module(s, pxd, full_module_name)\n",
      "  \u001b[31m   \u001b[0m error: command 'gcc' failed: No such file or directory: 'gcc'\n",
      "  \u001b[31m   \u001b[0m \u001b[31m[end of output]\u001b[0m\n",
      "  \n",
      "  \u001b[1;35mnote\u001b[0m: This error originates from a subprocess, and is likely not a problem with pip.\n",
      "\u001b[31m  ERROR: Failed building wheel for pycocotools\u001b[0m\u001b[31m\n",
      "\u001b[0m\u001b[?25hFailed to build pycocotools\n",
      "\u001b[31mERROR: Could not build wheels for pycocotools, which is required to install pyproject.toml-based projects\u001b[0m\u001b[31m\n",
      "\u001b[0m"
     ]
    }
   ],
   "source": [
    "!pip install mmdet==2.22.0 "
   ]
  },
  {
   "cell_type": "code",
   "execution_count": 6,
   "metadata": {},
   "outputs": [
    {
     "name": "stdout",
     "output_type": "stream",
     "text": [
      "WARNING: pip is being invoked by an old script wrapper. This will fail in a future version of pip.\n",
      "Please see https://github.com/pypa/pip/issues/5599 for advice on fixing the underlying issue.\n",
      "To avoid this problem you can invoke Python with '-m pip' instead of running pip directly.\n",
      "Requirement already satisfied: mmsegmentation==0.20.2 in /home/agricoptics/snap/jupyter/common/lib/python3.7/site-packages (0.20.2)\n",
      "Requirement already satisfied: prettytable in /home/agricoptics/snap/jupyter/common/lib/python3.7/site-packages (from mmsegmentation==0.20.2) (3.6.0)\n",
      "Requirement already satisfied: matplotlib in /home/agricoptics/snap/jupyter/common/lib/python3.7/site-packages (from mmsegmentation==0.20.2) (3.5.3)\n",
      "Requirement already satisfied: packaging in /home/agricoptics/snap/jupyter/common/lib/python3.7/site-packages (from mmsegmentation==0.20.2) (23.0)\n",
      "Requirement already satisfied: numpy in /home/agricoptics/snap/jupyter/common/lib/python3.7/site-packages (from mmsegmentation==0.20.2) (1.21.6)\n",
      "Requirement already satisfied: python-dateutil>=2.7 in /snap/jupyter/6/lib/python3.7/site-packages (from matplotlib->mmsegmentation==0.20.2) (2.8.0)\n",
      "Requirement already satisfied: pillow>=6.2.0 in /home/agricoptics/snap/jupyter/common/lib/python3.7/site-packages (from matplotlib->mmsegmentation==0.20.2) (9.4.0)\n",
      "Requirement already satisfied: kiwisolver>=1.0.1 in /home/agricoptics/snap/jupyter/common/lib/python3.7/site-packages (from matplotlib->mmsegmentation==0.20.2) (1.4.4)\n",
      "Requirement already satisfied: cycler>=0.10 in /home/agricoptics/snap/jupyter/common/lib/python3.7/site-packages (from matplotlib->mmsegmentation==0.20.2) (0.11.0)\n",
      "Requirement already satisfied: fonttools>=4.22.0 in /home/agricoptics/snap/jupyter/common/lib/python3.7/site-packages (from matplotlib->mmsegmentation==0.20.2) (4.38.0)\n",
      "Requirement already satisfied: pyparsing>=2.2.1 in /home/agricoptics/snap/jupyter/common/lib/python3.7/site-packages (from matplotlib->mmsegmentation==0.20.2) (3.0.9)\n",
      "Requirement already satisfied: wcwidth in /snap/jupyter/6/lib/python3.7/site-packages (from prettytable->mmsegmentation==0.20.2) (0.1.7)\n",
      "Requirement already satisfied: importlib-metadata in /home/agricoptics/snap/jupyter/common/lib/python3.7/site-packages (from prettytable->mmsegmentation==0.20.2) (6.0.0)\n",
      "Requirement already satisfied: typing-extensions in /home/agricoptics/snap/jupyter/common/lib/python3.7/site-packages (from kiwisolver>=1.0.1->matplotlib->mmsegmentation==0.20.2) (4.4.0)\n",
      "Requirement already satisfied: six>=1.5 in /snap/jupyter/6/lib/python3.7/site-packages (from python-dateutil>=2.7->matplotlib->mmsegmentation==0.20.2) (1.12.0)\n",
      "Requirement already satisfied: zipp>=0.5 in /home/agricoptics/snap/jupyter/common/lib/python3.7/site-packages (from importlib-metadata->prettytable->mmsegmentation==0.20.2) (3.11.0)\n"
     ]
    }
   ],
   "source": [
    "!pip install mmsegmentation==0.20.2"
   ]
  },
  {
   "cell_type": "code",
   "execution_count": 7,
   "metadata": {},
   "outputs": [
    {
     "name": "stdout",
     "output_type": "stream",
     "text": [
      "/home/agricoptics/Desktop/CatFish/mmsegmentation_vit\n",
      "WARNING: pip is being invoked by an old script wrapper. This will fail in a future version of pip.\n",
      "Please see https://github.com/pypa/pip/issues/5599 for advice on fixing the underlying issue.\n",
      "To avoid this problem you can invoke Python with '-m pip' instead of running pip directly.\n",
      "Obtaining file:///home/agricoptics/Desktop/CatFish/mmsegmentation_vit\n",
      "  Preparing metadata (setup.py) ... \u001b[?25ldone\n",
      "\u001b[?25hRequirement already satisfied: matplotlib in /home/agricoptics/snap/jupyter/common/lib/python3.7/site-packages (from mmsegmentation==0.29.1) (3.5.3)\n",
      "Requirement already satisfied: mmcls>=0.20.1 in /home/agricoptics/snap/jupyter/common/lib/python3.7/site-packages (from mmsegmentation==0.29.1) (0.25.0)\n",
      "Requirement already satisfied: numpy in /home/agricoptics/snap/jupyter/common/lib/python3.7/site-packages (from mmsegmentation==0.29.1) (1.21.6)\n",
      "Requirement already satisfied: packaging in /home/agricoptics/snap/jupyter/common/lib/python3.7/site-packages (from mmsegmentation==0.29.1) (23.0)\n",
      "Requirement already satisfied: prettytable in /home/agricoptics/snap/jupyter/common/lib/python3.7/site-packages (from mmsegmentation==0.29.1) (3.6.0)\n",
      "Requirement already satisfied: python-dateutil>=2.7 in /snap/jupyter/6/lib/python3.7/site-packages (from matplotlib->mmsegmentation==0.29.1) (2.8.0)\n",
      "Requirement already satisfied: pillow>=6.2.0 in /home/agricoptics/snap/jupyter/common/lib/python3.7/site-packages (from matplotlib->mmsegmentation==0.29.1) (9.4.0)\n",
      "Requirement already satisfied: pyparsing>=2.2.1 in /home/agricoptics/snap/jupyter/common/lib/python3.7/site-packages (from matplotlib->mmsegmentation==0.29.1) (3.0.9)\n",
      "Requirement already satisfied: cycler>=0.10 in /home/agricoptics/snap/jupyter/common/lib/python3.7/site-packages (from matplotlib->mmsegmentation==0.29.1) (0.11.0)\n",
      "Requirement already satisfied: fonttools>=4.22.0 in /home/agricoptics/snap/jupyter/common/lib/python3.7/site-packages (from matplotlib->mmsegmentation==0.29.1) (4.38.0)\n",
      "Requirement already satisfied: kiwisolver>=1.0.1 in /home/agricoptics/snap/jupyter/common/lib/python3.7/site-packages (from matplotlib->mmsegmentation==0.29.1) (1.4.4)\n",
      "Requirement already satisfied: importlib-metadata in /home/agricoptics/snap/jupyter/common/lib/python3.7/site-packages (from prettytable->mmsegmentation==0.29.1) (6.0.0)\n",
      "Requirement already satisfied: wcwidth in /snap/jupyter/6/lib/python3.7/site-packages (from prettytable->mmsegmentation==0.29.1) (0.1.7)\n",
      "Requirement already satisfied: typing-extensions in /home/agricoptics/snap/jupyter/common/lib/python3.7/site-packages (from kiwisolver>=1.0.1->matplotlib->mmsegmentation==0.29.1) (4.4.0)\n",
      "Requirement already satisfied: six>=1.5 in /snap/jupyter/6/lib/python3.7/site-packages (from python-dateutil>=2.7->matplotlib->mmsegmentation==0.29.1) (1.12.0)\n",
      "Requirement already satisfied: zipp>=0.5 in /home/agricoptics/snap/jupyter/common/lib/python3.7/site-packages (from importlib-metadata->prettytable->mmsegmentation==0.29.1) (3.11.0)\n",
      "Installing collected packages: mmsegmentation\n",
      "  Attempting uninstall: mmsegmentation\n",
      "    Found existing installation: mmsegmentation 0.20.2\n",
      "    Uninstalling mmsegmentation-0.20.2:\n",
      "      Successfully uninstalled mmsegmentation-0.20.2\n",
      "  Running setup.py develop for mmsegmentation\n",
      "Successfully installed mmsegmentation\n"
     ]
    }
   ],
   "source": [
    "%cd /home/agricoptics/Desktop/CatFish/mmsegmentation_vit\n",
    "!pip install -e ."
   ]
  },
  {
   "cell_type": "code",
   "execution_count": null,
   "metadata": {
    "id": "sirEH7Fi_Chh"
   },
   "outputs": [],
   "source": [
    "!pip install torch==1.9.0+cu111 torchvision==0.10.0+cu111 torchaudio==0.9.0 -f https://download.pytorch.org/whl/torch_stable.html\n",
    "!pip install mmcv-full==1.4.2 -f https://download.openmmlab.com/mmcv/dist/cu111/torch1.9.0/index.html\n",
    "!pip install timm==0.4.12\n",
    "!pip install mmdet==2.22.0 # for Mask2Former\n",
    "!pip install mmsegmentation==0.20.2\n",
    "\n"
   ]
  },
  {
   "cell_type": "code",
   "execution_count": null,
   "metadata": {},
   "outputs": [],
   "source": [
    "# !pip install opencv-python\n",
    "# Run the open-cv for the first-time\n",
    "\n",
    "# !pip install mmcv-full==1.7.0 -f https://download.openmmlab.com/mmcv/dist/cu111/torch1.10/index.html"
   ]
  },
  {
   "cell_type": "code",
   "execution_count": null,
   "metadata": {
    "colab": {
     "base_uri": "https://localhost:8080/"
    },
    "executionInfo": {
     "elapsed": 4307,
     "status": "ok",
     "timestamp": 1674081266957,
     "user": {
      "displayName": "Lab Zhang",
      "userId": "02753311727466830892"
     },
     "user_tz": 360
    },
    "id": "FO6F_rsYurOK",
    "outputId": "ce4b0da4-806c-4f1f-801a-f661ed7202dc"
   },
   "outputs": [],
   "source": [
    "# !pip install mmcv-full\n",
    "\n",
    "# !pip install mmseg\n",
    "\n",
    "\n",
    "# !pip install mmcv-full==1.7.0 -f https://download.openmmlab.com/mmcv/dist/cu111/torch1.10/index.html\n",
    "\n",
    "# import mmcv\n",
    "# print(mmcv.__file__)\n",
    "\n",
    "\n",
    "# This is the way to take the mmcv and mmseg to get installed in linux\n",
    "\n",
    "# !pip3 install opencv-python-headless==4.5.3.56\n",
    "\n",
    "import mmseg, mmcv\n",
    "print(mmcv.__file__)\n",
    "print(mmseg.__file__)"
   ]
  },
  {
   "cell_type": "code",
   "execution_count": null,
   "metadata": {
    "colab": {
     "base_uri": "https://localhost:8080/"
    },
    "executionInfo": {
     "elapsed": 312,
     "status": "ok",
     "timestamp": 1674081267266,
     "user": {
      "displayName": "Lab Zhang",
      "userId": "02753311727466830892"
     },
     "user_tz": 360
    },
    "id": "Fy6urKsyALRK",
    "outputId": "d8449493-538a-4724-89f1-7674cd748a96"
   },
   "outputs": [],
   "source": [
    "%cd /home/agricoptics/Desktop/CatFish/ViT-Adapter/segmentation\n",
    "\n",
    "!ln -s ../detection/ops ./\n",
    "# !ln -s ../detection/ops2 ./"
   ]
  },
  {
   "cell_type": "code",
   "execution_count": null,
   "metadata": {
    "colab": {
     "base_uri": "https://localhost:8080/"
    },
    "executionInfo": {
     "elapsed": 12676,
     "status": "ok",
     "timestamp": 1674081279939,
     "user": {
      "displayName": "Lab Zhang",
      "userId": "02753311727466830892"
     },
     "user_tz": 360
    },
    "id": "u2xW2eeoANgx",
    "outputId": "c482b18f-b692-4c3c-c1d1-ac4c9bacd143"
   },
   "outputs": [],
   "source": [
    "%cd /home/agricoptics/Desktop/CatFish/ViT-Adapter/detection/ops\n",
    "\n",
    "\n",
    "!pwd\n",
    "!sh make.sh\n",
    "\n",
    "# !sh make.sh # compile deformable attention"
   ]
  },
  {
   "cell_type": "code",
   "execution_count": null,
   "metadata": {
    "colab": {
     "base_uri": "https://localhost:8080/"
    },
    "executionInfo": {
     "elapsed": 14,
     "status": "ok",
     "timestamp": 1674081279939,
     "user": {
      "displayName": "Lab Zhang",
      "userId": "02753311727466830892"
     },
     "user_tz": 360
    },
    "id": "5JohxZdiQZY2",
    "outputId": "23176354-43f9-4ed8-b119-d0c6342314ec"
   },
   "outputs": [],
   "source": [
    "%cd /home/agricoptics/Desktop/CatFish/ViT-Adapter/segmentation"
   ]
  },
  {
   "cell_type": "code",
   "execution_count": null,
   "metadata": {},
   "outputs": [],
   "source": [
    "# !conda install cuda -c nvidia"
   ]
  },
  {
   "cell_type": "code",
   "execution_count": null,
   "metadata": {
    "colab": {
     "base_uri": "https://localhost:8080/"
    },
    "executionInfo": {
     "elapsed": 5808391,
     "status": "ok",
     "timestamp": 1674101997842,
     "user": {
      "displayName": "Lab Zhang",
      "userId": "02753311727466830892"
     },
     "user_tz": 360
    },
    "id": "2W6yECMcP9tD",
    "outputId": "c230d5f0-1d2e-4bf8-86d2-ae45081919a9"
   },
   "outputs": [],
   "source": [
    "!bash dist_train.sh /home/agricoptics/Desktop/CatFish/ViT-Adapter/segmentation/configs/ade20k/upernet_beit_adapter_large_640_160k_ade20k_ss.py 1 \n"
   ]
  },
  {
   "cell_type": "code",
   "execution_count": null,
   "metadata": {
    "executionInfo": {
     "elapsed": 2,
     "status": "ok",
     "timestamp": 1674101997843,
     "user": {
      "displayName": "Lab Zhang",
      "userId": "02753311727466830892"
     },
     "user_tz": 360
    },
    "id": "dkNHSSrzdP36"
   },
   "outputs": [],
   "source": [
    "# need edit model 'pretrained' parameter\n",
    "# !bash dist_train.sh /content/drive/MyDrive/catfish/tianqi/code/ViT-Adapter/segmentation/configs/ade20k/upernet_beit_adapter_large_640_160k_ade20k_ss.py 1 \\\n",
    "#     --resume-from /content/drive/MyDrive/catfish/tianqi/code/ViT-Adapter/segmentation/work_dirs/upernet_beit_adapter_large_640_160k_ade20k_ss/iter_1000.pth"
   ]
  },
  {
   "cell_type": "code",
   "execution_count": null,
   "metadata": {
    "executionInfo": {
     "elapsed": 2,
     "status": "ok",
     "timestamp": 1674101997843,
     "user": {
      "displayName": "Lab Zhang",
      "userId": "02753311727466830892"
     },
     "user_tz": 360
    },
    "id": "d7o9s5Ahlhvt"
   },
   "outputs": [],
   "source": [
    "# !rm -rf /content/drive/MyDrive/catfish/tianqi/code/ViT-Adapter/segmentation/work_dirs"
   ]
  }
 ],
 "metadata": {
  "accelerator": "GPU",
  "colab": {
   "authorship_tag": "ABX9TyOiMMuqtNF2jNuyD388agye",
   "machine_shape": "hm",
   "mount_file_id": "1KUloUWJaZtBzd4Nxke2nPitb3cXcmcCH",
   "provenance": []
  },
  "gpuClass": "premium",
  "kernelspec": {
   "display_name": "Python 3",
   "language": "python",
   "name": "python3"
  },
  "language_info": {
   "codemirror_mode": {
    "name": "ipython",
    "version": 3
   },
   "file_extension": ".py",
   "mimetype": "text/x-python",
   "name": "python",
   "nbconvert_exporter": "python",
   "pygments_lexer": "ipython3",
   "version": "3.7.3"
  }
 },
 "nbformat": 4,
 "nbformat_minor": 1
}
